{
 "cells": [
  {
   "cell_type": "code",
   "execution_count": 1,
   "id": "07d64870",
   "metadata": {},
   "outputs": [
    {
     "name": "stdout",
     "output_type": "stream",
     "text": [
      "Hello, world!\n"
     ]
    }
   ],
   "source": [
    "print('Hello, world!')"
   ]
  },
  {
   "cell_type": "code",
   "execution_count": 2,
   "id": "2399f57f",
   "metadata": {},
   "outputs": [],
   "source": [
    "import os\n"
   ]
  },
  {
   "cell_type": "code",
   "execution_count": 3,
   "id": "bb499280",
   "metadata": {},
   "outputs": [],
   "source": [
    "from langgraph.graph import MessagesState,StateGraph, END, START\n",
    "from langchain_core.messages import HumanMessage, SystemMessage\n",
    "from langchain_community.tools import DuckDuckGoSearchRun\n",
    "from langgraph.prebuilt import tools_condition # this is the checker for the if you got a tool back\n",
    "from langgraph.prebuilt import ToolNode\n",
    "from IPython.display import Image, display\n",
    "from typing import Annotated, TypedDict\n",
    "import operator\n",
    "from langchain_core.messages import AnyMessage\n",
    "from langgraph.graph.message import add_messages\n",
    "from langgraph.prebuilt import tools_condition # this is the checker for the\n",
    "from langgraph.prebuilt import ToolNode"
   ]
  },
  {
   "cell_type": "code",
   "execution_count": 4,
   "id": "646501ba",
   "metadata": {},
   "outputs": [],
   "source": [
    "\n",
    "from langchain_groq import ChatGroq\n",
    "llm=ChatGroq(model_name=\"Gemma2-9b-It\")\n",
    "     "
   ]
  },
  {
   "cell_type": "code",
   "execution_count": 5,
   "id": "f150b142",
   "metadata": {},
   "outputs": [
    {
     "data": {
      "text/plain": [
       "AIMessage(content='The current president of Sri Lanka is **Ranil Wickremesinghe**. \\n', additional_kwargs={}, response_metadata={'token_usage': {'completion_tokens': 19, 'prompt_tokens': 18, 'total_tokens': 37, 'completion_time': 0.034545455, 'prompt_time': 0.001918437, 'queue_time': 0.193466983, 'total_time': 0.036463892}, 'model_name': 'Gemma2-9b-It', 'system_fingerprint': 'fp_10c08bf97d', 'finish_reason': 'stop', 'logprobs': None}, id='run--8bce5155-99b8-43ff-bf14-bade6bae748d-0', usage_metadata={'input_tokens': 18, 'output_tokens': 19, 'total_tokens': 37})"
      ]
     },
     "execution_count": 5,
     "metadata": {},
     "output_type": "execute_result"
    }
   ],
   "source": [
    "llm.invoke('Who is the president of the Sri Lanka?')"
   ]
  },
  {
   "cell_type": "code",
   "execution_count": 6,
   "id": "b2653fe7",
   "metadata": {},
   "outputs": [],
   "source": [
    "def multiply(a: int, b: int) -> int:\n",
    "    \"\"\"\n",
    "    Multiply a and b.\n",
    "    Args:\n",
    "        a: first int\n",
    "        b: second int\n",
    "    \"\"\"\n",
    "    return a * b"
   ]
  },
  {
   "cell_type": "code",
   "execution_count": 7,
   "id": "8a546c18",
   "metadata": {},
   "outputs": [],
   "source": [
    "def add(a: int, b: int) -> int:\n",
    "    \"\"\"Adds a and b.\n",
    "\n",
    "    Args:\n",
    "        a: first int\n",
    "        b: second int\n",
    "    \"\"\"\n",
    "    return a + b"
   ]
  },
  {
   "cell_type": "code",
   "execution_count": 8,
   "id": "d0510471",
   "metadata": {},
   "outputs": [],
   "source": [
    "def divide(a: int, b: int) -> float:\n",
    "    \"\"\"Divide a and b.\n",
    "\n",
    "    Args:\n",
    "        a: first int\n",
    "        b: second int\n",
    "    \"\"\"\n",
    "    return a / b"
   ]
  },
  {
   "cell_type": "code",
   "execution_count": 9,
   "id": "c3bb69ca",
   "metadata": {},
   "outputs": [],
   "source": [
    "from langchain_community.tools.tavily_search import TavilySearchResults\n",
    "\n",
    "\n",
    "search = TavilySearchResults()\n"
   ]
  },
  {
   "cell_type": "code",
   "execution_count": 10,
   "id": "a8762380",
   "metadata": {},
   "outputs": [],
   "source": [
    "tools = [add, multiply, divide, search]\n"
   ]
  },
  {
   "cell_type": "code",
   "execution_count": 11,
   "id": "d8155db1",
   "metadata": {},
   "outputs": [],
   "source": [
    "llm_with_tools=llm.bind_tools(tools)\n"
   ]
  },
  {
   "cell_type": "code",
   "execution_count": 12,
   "id": "e4bfe9fe",
   "metadata": {},
   "outputs": [],
   "source": [
    "# System message\n",
    "sys_msg = SystemMessage(content=\"You are a helpful assistant tasked with using search and performing arithmetic on a set of inputs.\")"
   ]
  },
  {
   "cell_type": "code",
   "execution_count": 13,
   "id": "c515c6a7",
   "metadata": {},
   "outputs": [],
   "source": [
    "def reasoner(state: MessagesState):\n",
    "   return {\"messages\": [llm_with_tools.invoke([sys_msg] + state[\"messages\"])]}\n",
    "     "
   ]
  },
  {
   "cell_type": "code",
   "execution_count": 14,
   "id": "f295acdf",
   "metadata": {},
   "outputs": [],
   "source": [
    "# Graph\n",
    "builder = StateGraph(MessagesState)\n",
    "\n",
    "# Add nodes\n",
    "builder.add_node(\"reasoner\", reasoner)\n",
    "\n",
    "builder.add_node(\"tools\", ToolNode(tools)) # for the tools\n",
    "\n",
    "# Add edges\n",
    "builder.add_edge(START, \"reasoner\")\n",
    "\n",
    "builder.add_conditional_edges(\n",
    "    \"reasoner\",\n",
    "    # If the latest message (result) from node reasoner is a tool call -> tools_condition routes to tools\n",
    "    # If the latest message (result) from node reasoner is a not a tool call -> tools_condition routes to END\n",
    "    tools_condition,\n",
    ")\n",
    "\n",
    "builder.add_edge(\"tools\", \"reasoner\")\n",
    "react_graph = builder.compile()"
   ]
  },
  {
   "cell_type": "code",
   "execution_count": 15,
   "id": "b1c90956",
   "metadata": {},
   "outputs": [
    {
     "data": {
      "image/png": "[encoded data removed]",
      "text/plain": [
       "<IPython.core.display.Image object>"
      ]
     },
     "metadata": {},
     "output_type": "display_data"
    }
   ],
   "source": [
    "\n",
    "# Display the graph\n",
    "display(Image(react_graph.get_graph(xray=True).draw_mermaid_png()))"
   ]
  },
  {
   "cell_type": "code",
   "execution_count": 16,
   "id": "c98a6691",
   "metadata": {},
   "outputs": [],
   "source": [
    "messages = [HumanMessage(content=\"What is 2 times of narendramodi's age?\")]\n"
   ]
  },
  {
   "cell_type": "code",
   "execution_count": 17,
   "id": "77c248b5",
   "metadata": {},
   "outputs": [],
   "source": [
    "messages = react_graph.invoke({\"messages\": messages})\n"
   ]
  },
  {
   "cell_type": "code",
   "execution_count": 18,
   "id": "b686d7d2",
   "metadata": {},
   "outputs": [
    {
     "name": "stdout",
     "output_type": "stream",
     "text": [
      "================================\u001b[1m Human Message \u001b[0m=================================\n",
      "\n",
      "What is 2 times of narendramodi's age?\n",
      "==================================\u001b[1m Ai Message \u001b[0m==================================\n",
      "Tool Calls:\n",
      "  tavily_search_results_json (call_h9y7)\n",
      " Call ID: call_h9y7\n",
      "  Args:\n",
      "    query: narendra modi's age\n",
      "=================================\u001b[1m Tool Message \u001b[0m=================================\n",
      "Name: tavily_search_results_json\n",
      "\n",
      "[{\"title\": \"Narendra Modi Biography, Age, Education, Family, Political - Only IAS\", \"url\": \"https://pwonlyias.com/narendra-modi/\", \"content\": \"Narendra Modi, the present serving Prime Minister of India, was born on September 17, 1950. At present, in 2024, Narendra Modi age is 74. Throughout his political career, Modi has been a significant figure, known for his leadership, vision, and constructive policies. His journey from humble beginnings to the highest office in the country has been marked by both praise and criticism, shaping the political landscape of India.\\n\\nNarendra Modi Early Life [...] Narendra Modi Biography\\nNarendra Modi Full Name | Narendra Damodardas Modi\\nBorn (Narendra Modi Birthday) | 17 September, 1950\\nMother | Heeraben Modi\\nFather | Damodardas Modi\\nPlace of Birth | Vadnagar, Mehsana (Gujarat)\\nZodiac Sign | Virgo\\nNationality | Indian\\nAge | 74 years (Prime Minister Narendra Modi turned 74 on September 17, 2024).\\nPm Modi Political Party | Bharatiya Janata Party (BJP)\\nNarendra Modi Biography\\n\\n\\n\\nEnroll now for UPSC Online Course\\n\\nFull Name of Narendra Modi [...] Narendra Modi Biography\\n\\n\\n\\nNarendra Modi Picture\\n\\nNarendra Modi, (full name, Narendra Damodardas Modi), the 14th Prime Minister of India, is a charismatic and influential leader who has left an indelible mark on the nation’s political landscape. Born on September 17, 1950, in Vadnagar, a small town in Gujarat, Modi’s journey to the pinnacle of Indian politics is a remarkable tale of perseverance, determination, and astute leadership.\", \"score\": 0.9421299}, {\"title\": \"Narendra Modi - Wikipedia\", \"url\": \"https://en.wikipedia.org/wiki/Narendra_Modi\", \"content\": \"5 January 1998[1] – 7 October 2001 |\\n| Preceded by | Kushabhau Thakre |\\n| Succeeded by | Sanjay Joshi |\\n|  |\\n| Personal details |\\n| Born | \\nNarendra Damodardas Modi\\n(1950-09-17) 17 September 1950 (age 74)\\nVadnagar, Bombay State, India\\n(present-day Gujarat) |\\n| Political party | Bharatiya Janata Party |\\n| Spouse | \\nJashodaben Modi\\n​\\n​\\n(m. 1968; sep. 1971)​\\n[2] |\\n| Residence | 7, Lok Kalyan Marg, New Delhi |\\n| Alma mater | [...] ^ Asrar, Nadim (26 February 2014). \\\"Narendra Modi's political journey from RSS worker to BJP's PM candidate\\\". NDTV. Archived from the original on 8 August 2020. Retrieved 15 August 2015.\\n^ \\\"PM Modi turns 69: A timeline of his political career\\\". Deccan Herald. 17 September 2019. Archived from the original on 15 January 2021. Retrieved 13 January 2021.\\n^ Tiwari, Ravish (27 November 2014). \\\"The low-profile RSS apparatchik is the newface of power in the NDA\\\". India Today. Retrieved 13 January 2021. [...] |\\nNarendra Damodardas Modi[a] (born 17 September 1950)[b] is an Indian politician who has served as the prime minister of India since 2014. Modi was the chief minister of Gujarat from 2001 to 2014 and is the member of parliament (MP) for Varanasi. He is a member of the Bharatiya Janata Party (BJP) and of the Rashtriya Swayamsevak Sangh (RSS), a right-wing Hindu nationalist paramilitary volunteer organisation. He is the longest-serving prime minister outside the Indian National Congress.[4]\", \"score\": 0.9294982}, {\"title\": \"PM Modi, Who Has Turned 74, Has Been Consistently Setting New ...\", \"url\": \"https://www.youtube.com/watch?v=peIvxVp6-QE\", \"content\": \"[Music] Narendra Modi is 74 and age is just a number for the Prime [Music] Minister he's doing things that others his age don't and maybe simply can't from a hectic election campaign to Flying air sorties or deep diving and snotling Mr Modi has been consistently setting new benchmarks for starters the PM did a record breaking 206 rallies and Road shows during the 2024 election campaign over a period of 76 days this was almost three campaign events daily with the PM transversing thousands of [...] PM Modi Birthday | PM Modi, Who Has Turned 74, Has Been Consistently Setting New Benchmarks | N18V\\nCNN-News18\\n9650000 subscribers\\n38 likes\\n2194 views\\n17 Sep 2024\\nModi at 74: age is just a number for India's PM. PM Modi is doing things that others his age don't, and simply can't . From hectic election campaigns to flying air sorties or deep-sea diving . PM Modi, who has turned 74, has been consistently setting new benchmarks \\n\\n#pmmodibirthday #pmmodi  #englishnews #BJP #PMModi [...] kilometers across the country Mr Modi in fact did 4 % more rallies and Road shows in 2024 than he did when he was 68 years of age in the 2019 general elections so the energy shown by the Prime Minister you know he's turned 74 but the kind of things he's doing even at this Agee how would you describe uh the prime minister's energy and the prime minister's way of working see one way to look at it like you said it's only a number so his energy level would be the same as it was when he was 47 so\", \"score\": 0.87807417}, {\"title\": \"Narendra Modi | Biography, Career, & Facts - Britannica\", \"url\": \"https://www.britannica.com/biography/Narendra-Modi\", \"content\": \"Narendra Damodardas Modi\\n(Show more)\\nBorn:\\nSeptember 17, 1950, Vadnagar, India (age 74)\\n(Show more)\\nTitle / Office:\\nprime minister (2014-), India\\n(Show more)\\nPolitical Affiliation:\\nBharatiya Janata Party\\nRashtriya Swayamsevak Sangh\\n(Show more)\\nSee all related content\\nNews •\\nIran's top diplomat is in Pakistan to mediate in escalation with India over Kashmir attack • May 5, 2025, 8:05 AM ET (AP) ...(Show more)\\nIndia will include caste details in its next census • May 1, 2025, 8:52 PM ET (AP) [...] Narendra Modi (born September 17, 1950, Vadnagar, India) is an Indian politician and government official who rose to become a senior leader of the Bharatiya Janata Party (BJP). In 2014 he led his party to victory in elections to the Lok Sabha (lower chamber of the Indian parliament), after which he was sworn in as prime minister of India. Prior to that he had served (2001–14) as chief minister (head of government) of Gujarat state in western India. The Modi-led BJP (and the BJP-led NDA [...] CNN - Narendra Modi: India’s popular but controversial leader seeking a transformative third term\\nPrime Minister of India - Narendra Modi\\nGlobalSecurity.org - Narendra Modi\\n\\nBritannica Websites\\nArticles from Britannica Encyclopedias for elementary and high school students.\\n\\nNarendra Modi - Student Encyclopedia (Ages 11 and up)\", \"score\": 0.8752871}, {\"title\": \"Narendra Modi - Wikipedia\", \"url\": \"https://hif.wikipedia.org/wiki/Narendra_Modi\", \"content\": \"Janam | 17 September 1950(1950-09-17)(age 74)Vadnagar,Bombay State, India(present-dayGujarat)\\nNationality | Indian\\nPolitical party | Bharatiya Janata Party\\nOther politicalaffiliations | Rashtriya Swayamsevak Sangh(RSS)\\nSpouse | Jashodaben Modi(m.1968; sep 1971)[3]\\nResidence | 7, Lok Kalyan Marg,New Delhi, India\\nAlma mater | Delhi University(BA)Gujarat University(MA)\\nSignature | \\nWebsite | Template:Bulletedlist\\nMilitary service\\nAwards | List of state honours\\nOfficial portrait, 2023 [...] Narendra Damodardas Modi (janam: 17 September 1950)[4][5] India ke prime minister hae. Uu prime minister 26 May 2014 se hae, Isse pahile uu 2001 se 2014 talak Gujarat ke chief minister rahaa. UU Bharatiya Janata Party (BJP) aur  Rashtriya Swayamsevak Sangh (RSS), ek right wing Hindu nationalist paramilitary volunteer organisation ke member hae. Uu India ke, Indian National Congress se baahar, sab se jaada din talak prime minister hae. [6]\", \"score\": 0.8684817}]\n",
      "==================================\u001b[1m Ai Message \u001b[0m==================================\n",
      "\n",
      "<tools>{\"tool_call\":{\"id\":\"call_h9y7\",\"type\":\"function\",\"function\":{\"name\":\"multiply\"},\"parameters\":{\"a\":74,\"b\":2}}}</tools>\n"
     ]
    }
   ],
   "source": [
    "\n",
    "for m in messages['messages']:\n",
    "    m.pretty_print()"
   ]
  },
  {
   "cell_type": "code",
   "execution_count": 19,
   "id": "8cca85f8",
   "metadata": {},
   "outputs": [
    {
     "ename": "ModuleNotFoundError",
     "evalue": "No module named 'websockets.sync'",
     "output_type": "error",
     "traceback": [
      "\u001b[1;31m---------------------------------------------------------------------------\u001b[0m",
      "\u001b[1;31mModuleNotFoundError\u001b[0m                       Traceback (most recent call last)",
      "Cell \u001b[1;32mIn[19], line 2\u001b[0m\n\u001b[0;32m      1\u001b[0m \u001b[38;5;66;03m#Creating a finance BOT\u001b[39;00m\n\u001b[1;32m----> 2\u001b[0m \u001b[38;5;28;01mimport\u001b[39;00m\u001b[38;5;250m \u001b[39m\u001b[38;5;21;01myfinance\u001b[39;00m\u001b[38;5;250m \u001b[39m\u001b[38;5;28;01mas\u001b[39;00m\u001b[38;5;250m \u001b[39m\u001b[38;5;21;01myf\u001b[39;00m\n\u001b[0;32m      4\u001b[0m \u001b[38;5;28;01mdef\u001b[39;00m\u001b[38;5;250m \u001b[39m\u001b[38;5;21mget_stock_price\u001b[39m(ticker: \u001b[38;5;28mstr\u001b[39m) \u001b[38;5;241m-\u001b[39m\u001b[38;5;241m>\u001b[39m \u001b[38;5;28mfloat\u001b[39m:\n\u001b[0;32m      5\u001b[0m \u001b[38;5;250m    \u001b[39m\u001b[38;5;124;03m\"\"\"Gets a stock price from Yahoo Finance.\u001b[39;00m\n\u001b[0;32m      6\u001b[0m \n\u001b[0;32m      7\u001b[0m \u001b[38;5;124;03m    Args:\u001b[39;00m\n\u001b[0;32m      8\u001b[0m \u001b[38;5;124;03m        ticker: ticker str\u001b[39;00m\n\u001b[0;32m      9\u001b[0m \u001b[38;5;124;03m    \"\"\"\u001b[39;00m\n",
      "File \u001b[1;32mc:\\Users\\LapMaster\\anaconda3\\envs\\langGraphenv\\lib\\site-packages\\yfinance\\__init__.py:25\u001b[0m\n\u001b[0;32m     23\u001b[0m \u001b[38;5;28;01mfrom\u001b[39;00m\u001b[38;5;250m \u001b[39m\u001b[38;5;21;01m.\u001b[39;00m\u001b[38;5;21;01msearch\u001b[39;00m\u001b[38;5;250m \u001b[39m\u001b[38;5;28;01mimport\u001b[39;00m Search\n\u001b[0;32m     24\u001b[0m \u001b[38;5;28;01mfrom\u001b[39;00m\u001b[38;5;250m \u001b[39m\u001b[38;5;21;01m.\u001b[39;00m\u001b[38;5;21;01mlookup\u001b[39;00m\u001b[38;5;250m \u001b[39m\u001b[38;5;28;01mimport\u001b[39;00m Lookup\n\u001b[1;32m---> 25\u001b[0m \u001b[38;5;28;01mfrom\u001b[39;00m\u001b[38;5;250m \u001b[39m\u001b[38;5;21;01m.\u001b[39;00m\u001b[38;5;21;01mticker\u001b[39;00m\u001b[38;5;250m \u001b[39m\u001b[38;5;28;01mimport\u001b[39;00m Ticker\n\u001b[0;32m     26\u001b[0m \u001b[38;5;28;01mfrom\u001b[39;00m\u001b[38;5;250m \u001b[39m\u001b[38;5;21;01m.\u001b[39;00m\u001b[38;5;21;01mtickers\u001b[39;00m\u001b[38;5;250m \u001b[39m\u001b[38;5;28;01mimport\u001b[39;00m Tickers\n\u001b[0;32m     27\u001b[0m \u001b[38;5;28;01mfrom\u001b[39;00m\u001b[38;5;250m \u001b[39m\u001b[38;5;21;01m.\u001b[39;00m\u001b[38;5;21;01mmulti\u001b[39;00m\u001b[38;5;250m \u001b[39m\u001b[38;5;28;01mimport\u001b[39;00m download\n",
      "File \u001b[1;32mc:\\Users\\LapMaster\\anaconda3\\envs\\langGraphenv\\lib\\site-packages\\yfinance\\ticker.py:29\u001b[0m\n\u001b[0;32m     25\u001b[0m \u001b[38;5;28;01mfrom\u001b[39;00m\u001b[38;5;250m \u001b[39m\u001b[38;5;21;01m.\u001b[39;00m\u001b[38;5;21;01mscrapers\u001b[39;00m\u001b[38;5;21;01m.\u001b[39;00m\u001b[38;5;21;01mfunds\u001b[39;00m\u001b[38;5;250m \u001b[39m\u001b[38;5;28;01mimport\u001b[39;00m FundsData\n\u001b[0;32m     27\u001b[0m \u001b[38;5;28;01mimport\u001b[39;00m\u001b[38;5;250m \u001b[39m\u001b[38;5;21;01mpandas\u001b[39;00m\u001b[38;5;250m \u001b[39m\u001b[38;5;28;01mas\u001b[39;00m\u001b[38;5;250m \u001b[39m\u001b[38;5;21;01m_pd\u001b[39;00m\n\u001b[1;32m---> 29\u001b[0m \u001b[38;5;28;01mfrom\u001b[39;00m\u001b[38;5;250m \u001b[39m\u001b[38;5;21;01m.\u001b[39;00m\u001b[38;5;21;01mbase\u001b[39;00m\u001b[38;5;250m \u001b[39m\u001b[38;5;28;01mimport\u001b[39;00m TickerBase\n\u001b[0;32m     30\u001b[0m \u001b[38;5;28;01mfrom\u001b[39;00m\u001b[38;5;250m \u001b[39m\u001b[38;5;21;01m.\u001b[39;00m\u001b[38;5;21;01mconst\u001b[39;00m\u001b[38;5;250m \u001b[39m\u001b[38;5;28;01mimport\u001b[39;00m _BASE_URL_, _SENTINEL_\n\u001b[0;32m     33\u001b[0m \u001b[38;5;28;01mclass\u001b[39;00m\u001b[38;5;250m \u001b[39m\u001b[38;5;21;01mTicker\u001b[39;00m(TickerBase):\n",
      "File \u001b[1;32mc:\\Users\\LapMaster\\anaconda3\\envs\\langGraphenv\\lib\\site-packages\\yfinance\\base.py:37\u001b[0m\n\u001b[0;32m     35\u001b[0m \u001b[38;5;28;01mfrom\u001b[39;00m\u001b[38;5;250m \u001b[39m\u001b[38;5;21;01m.\u001b[39;00m\u001b[38;5;21;01mdata\u001b[39;00m\u001b[38;5;250m \u001b[39m\u001b[38;5;28;01mimport\u001b[39;00m YfData\n\u001b[0;32m     36\u001b[0m \u001b[38;5;28;01mfrom\u001b[39;00m\u001b[38;5;250m \u001b[39m\u001b[38;5;21;01m.\u001b[39;00m\u001b[38;5;21;01mexceptions\u001b[39;00m\u001b[38;5;250m \u001b[39m\u001b[38;5;28;01mimport\u001b[39;00m YFEarningsDateMissing, YFRateLimitError\n\u001b[1;32m---> 37\u001b[0m \u001b[38;5;28;01mfrom\u001b[39;00m\u001b[38;5;250m \u001b[39m\u001b[38;5;21;01m.\u001b[39;00m\u001b[38;5;21;01mlive\u001b[39;00m\u001b[38;5;250m \u001b[39m\u001b[38;5;28;01mimport\u001b[39;00m WebSocket\n\u001b[0;32m     38\u001b[0m \u001b[38;5;28;01mfrom\u001b[39;00m\u001b[38;5;250m \u001b[39m\u001b[38;5;21;01m.\u001b[39;00m\u001b[38;5;21;01mscrapers\u001b[39;00m\u001b[38;5;21;01m.\u001b[39;00m\u001b[38;5;21;01manalysis\u001b[39;00m\u001b[38;5;250m \u001b[39m\u001b[38;5;28;01mimport\u001b[39;00m Analysis\n\u001b[0;32m     39\u001b[0m \u001b[38;5;28;01mfrom\u001b[39;00m\u001b[38;5;250m \u001b[39m\u001b[38;5;21;01m.\u001b[39;00m\u001b[38;5;21;01mscrapers\u001b[39;00m\u001b[38;5;21;01m.\u001b[39;00m\u001b[38;5;21;01mfundamentals\u001b[39;00m\u001b[38;5;250m \u001b[39m\u001b[38;5;28;01mimport\u001b[39;00m Fundamentals\n",
      "File \u001b[1;32mc:\\Users\\LapMaster\\anaconda3\\envs\\langGraphenv\\lib\\site-packages\\yfinance\\live.py:6\u001b[0m\n\u001b[0;32m      3\u001b[0m \u001b[38;5;28;01mimport\u001b[39;00m\u001b[38;5;250m \u001b[39m\u001b[38;5;21;01mjson\u001b[39;00m\n\u001b[0;32m      4\u001b[0m \u001b[38;5;28;01mfrom\u001b[39;00m\u001b[38;5;250m \u001b[39m\u001b[38;5;21;01mtyping\u001b[39;00m\u001b[38;5;250m \u001b[39m\u001b[38;5;28;01mimport\u001b[39;00m List, Optional, Callable\n\u001b[1;32m----> 6\u001b[0m \u001b[38;5;28;01mfrom\u001b[39;00m\u001b[38;5;250m \u001b[39m\u001b[38;5;21;01mwebsockets\u001b[39;00m\u001b[38;5;21;01m.\u001b[39;00m\u001b[38;5;21;01msync\u001b[39;00m\u001b[38;5;21;01m.\u001b[39;00m\u001b[38;5;21;01mclient\u001b[39;00m\u001b[38;5;250m \u001b[39m\u001b[38;5;28;01mimport\u001b[39;00m connect \u001b[38;5;28;01mas\u001b[39;00m sync_connect\n\u001b[0;32m      7\u001b[0m \u001b[38;5;28;01mfrom\u001b[39;00m\u001b[38;5;250m \u001b[39m\u001b[38;5;21;01mwebsockets\u001b[39;00m\u001b[38;5;21;01m.\u001b[39;00m\u001b[38;5;21;01masyncio\u001b[39;00m\u001b[38;5;21;01m.\u001b[39;00m\u001b[38;5;21;01mclient\u001b[39;00m\u001b[38;5;250m \u001b[39m\u001b[38;5;28;01mimport\u001b[39;00m connect \u001b[38;5;28;01mas\u001b[39;00m async_connect\n\u001b[0;32m      9\u001b[0m \u001b[38;5;28;01mfrom\u001b[39;00m\u001b[38;5;250m \u001b[39m\u001b[38;5;21;01myfinance\u001b[39;00m\u001b[38;5;250m \u001b[39m\u001b[38;5;28;01mimport\u001b[39;00m utils\n",
      "\u001b[1;31mModuleNotFoundError\u001b[0m: No module named 'websockets.sync'"
     ]
    }
   ],
   "source": [
    "#Creating a finance BOT\n",
    "import yfinance as yf\n",
    "\n",
    "def get_stock_price(ticker: str) -> float:\n",
    "    \"\"\"Gets a stock price from Yahoo Finance.\n",
    "\n",
    "    Args:\n",
    "        ticker: ticker str\n",
    "    \"\"\"\n",
    "    # \"\"\"This is a tool for getting the price of a stock when passed a ticker symbol\"\"\"\n",
    "    stock = yf.Ticker(ticker)\n",
    "    return stock.info['previousClose']"
   ]
  },
  {
   "cell_type": "code",
   "execution_count": null,
   "id": "fc15edb7",
   "metadata": {},
   "outputs": [
    {
     "data": {
      "text/plain": [
       "197.49"
      ]
     },
     "execution_count": 36,
     "metadata": {},
     "output_type": "execute_result"
    }
   ],
   "source": [
    "get_stock_price(\"AAPL\")\n"
   ]
  },
  {
   "cell_type": "code",
   "execution_count": null,
   "id": "ec1d3315",
   "metadata": {},
   "outputs": [],
   "source": [
    "def reasoner(state):\n",
    "    query = state[\"query\"]\n",
    "    messages = state[\"messages\"]\n",
    "    # System message\n",
    "    sys_msg = SystemMessage(content=\"You are a helpful assistant tasked with using search, the yahoo finance tool and performing arithmetic on a set of inputs.\")\n",
    "    message = HumanMessage(content=query)\n",
    "    messages.append(message)\n",
    "    result = [llm_with_tools.invoke([sys_msg] + messages)]\n",
    "    return {\"messages\":result}\n",
    "     "
   ]
  },
  {
   "cell_type": "code",
   "execution_count": null,
   "id": "f7fc5bd1",
   "metadata": {},
   "outputs": [],
   "source": [
    "tools = [add, multiply, divide, search, get_stock_price]\n"
   ]
  },
  {
   "cell_type": "code",
   "execution_count": null,
   "id": "10dd7297",
   "metadata": {},
   "outputs": [],
   "source": [
    "llm_with_tools = llm.bind_tools(tools)\n"
   ]
  },
  {
   "cell_type": "code",
   "execution_count": null,
   "id": "007cfab3",
   "metadata": {},
   "outputs": [],
   "source": [
    "\n",
    "class GraphState(TypedDict):\n",
    "    \"\"\"State of the graph.\"\"\"\n",
    "    query: str\n",
    "    finance: str\n",
    "    final_answer: str\n",
    "    # intermediate_steps: Annotated[list[tuple[AgentAction, str]], operator.add]\n",
    "    messages: Annotated[list[AnyMessage], operator.add]"
   ]
  },
  {
   "cell_type": "code",
   "execution_count": null,
   "id": "f82355b3",
   "metadata": {},
   "outputs": [
    {
     "data": {
      "image/png": "[encoded data removed]",
      "text/plain": [
       "<IPython.core.display.Image object>"
      ]
     },
     "metadata": {},
     "output_type": "display_data"
    }
   ],
   "source": [
    "# Graph\n",
    "workflow = StateGraph(GraphState)\n",
    "\n",
    "# Add Nodes\n",
    "workflow.add_node(\"reasoner\", reasoner)\n",
    "workflow.add_node(\"tools\", ToolNode(tools)) # for the tools\n",
    "\n",
    "# Add Edges\n",
    "workflow.add_edge(START, \"reasoner\")\n",
    "\n",
    "workflow.add_conditional_edges(\n",
    "    \"reasoner\",\n",
    "    # If the latest message (result) from node reasoner is a tool call -> tools_condition routes to tools\n",
    "    # If the latest message (result) from node reasoner is a not a tool call -> tools_condition routes to END\n",
    "    tools_condition,\n",
    ")\n",
    "workflow.add_edge(\"tools\", \"reasoner\")\n",
    "react_graph = workflow.compile()\n",
    "\n",
    "# Show\n",
    "display(Image(react_graph.get_graph(xray=True).draw_mermaid_png()))"
   ]
  },
  {
   "cell_type": "code",
   "execution_count": null,
   "id": "bdf2a0da",
   "metadata": {},
   "outputs": [],
   "source": [
    "response = react_graph.invoke({\"query\": \"What is the stock price of Apple add 1000?\", \"messages\": []})\n"
   ]
  },
  {
   "cell_type": "code",
   "execution_count": null,
   "id": "cdb0799c",
   "metadata": {},
   "outputs": [
    {
     "name": "stdout",
     "output_type": "stream",
     "text": [
      "================================\u001b[1m Human Message \u001b[0m=================================\n",
      "\n",
      "What is the stock price of Apple add 1000?\n",
      "==================================\u001b[1m Ai Message \u001b[0m==================================\n",
      "Tool Calls:\n",
      "  get_stock_price (call_gkdc)\n",
      " Call ID: call_gkdc\n",
      "  Args:\n",
      "    ticker: AAPL\n",
      "=================================\u001b[1m Tool Message \u001b[0m=================================\n",
      "Name: get_stock_price\n",
      "\n",
      "197.49\n",
      "================================\u001b[1m Human Message \u001b[0m=================================\n",
      "\n",
      "What is the stock price of Apple add 1000?\n",
      "==================================\u001b[1m Ai Message \u001b[0m==================================\n",
      "Tool Calls:\n",
      "  get_stock_price (call_e1z1)\n",
      " Call ID: call_e1z1\n",
      "  Args:\n",
      "    ticker: AAPL\n",
      "=================================\u001b[1m Tool Message \u001b[0m=================================\n",
      "Name: get_stock_price\n",
      "\n",
      "197.49\n",
      "================================\u001b[1m Human Message \u001b[0m=================================\n",
      "\n",
      "What is the stock price of Apple add 1000?\n",
      "==================================\u001b[1m Ai Message \u001b[0m==================================\n",
      "\n",
      "197.49 + 1000 = 1197.49\n"
     ]
    }
   ],
   "source": [
    "\n",
    "for m in response['messages']:\n",
    "    m.pretty_print()"
   ]
  },
  {
   "cell_type": "code",
   "execution_count": null,
   "id": "d38ad252",
   "metadata": {},
   "outputs": [],
   "source": [
    " "
   ]
  }
 ],
 "metadata": {
  "kernelspec": {
   "display_name": "langGraphenv",
   "language": "python",
   "name": "python3"
  },
  "language_info": {
   "codemirror_mode": {
    "name": "ipython",
    "version": 3
   },
   "file_extension": ".py",
   "mimetype": "text/x-python",
   "name": "python",
   "nbconvert_exporter": "python",
   "pygments_lexer": "ipython3",
   "version": "3.10.16"
  }
 },
 "nbformat": 4,
 "nbformat_minor": 5
}
