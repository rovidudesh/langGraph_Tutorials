{
 "cells": [
  {
   "cell_type": "code",
   "execution_count": 1,
   "id": "e2b12bfd",
   "metadata": {},
   "outputs": [],
   "source": [
    "from typing import Annotated\n",
    "import operator,json\n",
    "from typing import TypedDict, Annotated, Sequence\n",
    "from typing_extensions import TypedDict\n",
    "from langchain_core.messages import BaseMessage\n",
    "from langgraph.checkpoint.memory import MemorySaver\n",
    "from langgraph.graph import StateGraph,END,START\n",
    "from langgraph.graph.message import add_messages\n",
    "from langgraph.prebuilt import ToolNode, tools_condition\n",
    "from langchain_core.tools import tool\n",
    "from langchain_community.tools.tavily_search import TavilySearchResults"
   ]
  },
  {
   "cell_type": "code",
   "execution_count": 2,
   "id": "c54dff84",
   "metadata": {},
   "outputs": [],
   "source": [
    "from langchain_groq import ChatGroq\n",
    "llm=ChatGroq(model_name=\"Gemma2-9b-It\")"
   ]
  },
  {
   "cell_type": "code",
   "execution_count": 3,
   "id": "697d2c76",
   "metadata": {},
   "outputs": [],
   "source": [
    "@tool\n",
    "def multiply(first_number:int, second_number:int)->int:\n",
    "    \"\"\"multiply two integer number\"\"\"\n",
    "    return first_number * second_number\n"
   ]
  },
  {
   "cell_type": "code",
   "execution_count": 4,
   "id": "b205a678",
   "metadata": {},
   "outputs": [
    {
     "name": "stderr",
     "output_type": "stream",
     "text": [
      "C:\\Users\\LapMaster\\AppData\\Local\\Temp\\ipykernel_26492\\2089873997.py:1: LangChainDeprecationWarning: The method `BaseTool.__call__` was deprecated in langchain-core 0.1.47 and will be removed in 1.0. Use :meth:`~invoke` instead.\n",
      "  multiply({\"first_number\":24,\"second_number\":364})\n"
     ]
    },
    {
     "data": {
      "text/plain": [
       "8736"
      ]
     },
     "execution_count": 4,
     "metadata": {},
     "output_type": "execute_result"
    }
   ],
   "source": [
    "multiply({\"first_number\":24,\"second_number\":364})"
   ]
  },
  {
   "cell_type": "code",
   "execution_count": 5,
   "id": "da920c73",
   "metadata": {},
   "outputs": [
    {
     "data": {
      "text/plain": [
       "8736"
      ]
     },
     "execution_count": 5,
     "metadata": {},
     "output_type": "execute_result"
    }
   ],
   "source": [
    "multiply.invoke({\"first_number\":24,\"second_number\":364})"
   ]
  },
  {
   "cell_type": "code",
   "execution_count": 6,
   "id": "b0e3b608",
   "metadata": {},
   "outputs": [],
   "source": [
    "@tool\n",
    "def search(query:str):\n",
    "    \"\"\"perform the web search on the user query\"\"\"\n",
    "    tavily=TavilySearchResults()\n",
    "    result=tavily.invoke(query)\n",
    "    return result"
   ]
  },
  {
   "cell_type": "code",
   "execution_count": 7,
   "id": "0e71d364",
   "metadata": {},
   "outputs": [
    {
     "data": {
      "text/plain": [
       "[{'title': 'Presidents, vice presidents, and first ladies | USAGov',\n",
       "  'url': 'https://www.usa.gov/presidents',\n",
       "  'content': \"Learn about the duties of president, vice president, and first lady of the United States. Find out how to contact and learn more about current and past leaders.\\n\\nPresident of the United States\\n\\nThe president of the United States is the:\\n\\nCurrent president\\n\\nThe 47th and current president of the United States is Donald John Trump.\\xa0He was sworn into office on January 20, 2025.\\n\\nFormer U.S. presidents [...] Read about past presidents and vice presidents.\\n\\nFirst lady\\n\\nThe First lady of the United States has traditionally been the wife or other close female relative of the president of the United States. First ladies:\\n\\nCurrent first lady\\n\\nThe current first lady of the United States is Melania Trump.\\n\\nFormer first ladies\\n\\nFind a list of former first ladies and their presidential spouses.\\n\\nSee the Smithsonian Institution's virtual tour of first ladies' inaugural ball gowns and other artifacts. [...] The vice president of the United States presides over the U.S. Senate and takes over the role of president of the United States if the president is unable to perform their duties. If the vice president is not able to fulfill the duties of president, the role is passed to another leader in the order of presidential succession.\\n\\nCurrent vice president\\n\\nThe 50th and current vice president of the United States is James David (JD) Vance. He was sworn in on January 20, 2025\\n\\nFormer vice presidents\",\n",
       "  'score': 0.8872928},\n",
       " {'title': 'List of presidents of the United States - Wikipedia',\n",
       "  'url': 'https://en.wikipedia.org/wiki/List_of_presidents_of_the_United_States',\n",
       "  'content': 'Nixon(1969–1974)Gerald Ford(1974–1977)Jimmy Carter(1977–1981)Ronald Reagan(1981–1989)George H. W. Bush(1989–1993)Bill Clinton(1993–2001)George W. Bush(2001–2009)Barack Obama(2009–2017)Donald Trump(2017–2021)Joe Biden(2021–2025)Donald Trump(2025–present) [...] The president of the United States is the head of state and head of government of the United States,[1] indirectly elected to a four-year term via the Electoral College.[2] Under the U.S. Constitution, the officeholder leads the executive branch of the federal government and is the commander-in-chief of the United States Armed Forces.[3] The first president, George Washington, won a unanimous vote of the Electoral College.[4] The incumbent president is Donald Trump, who assumed office on [...] January 20, 2025.[5][6] Since the office was established in 1789, 45 men have served in 47 presidencies; the discrepancy arises from two individuals elected to non-consecutive terms: Grover Cleveland is counted as the 22nd and 24th president of the United States, while Donald Trump is counted as the 45th and 47th president.[7][8]',\n",
       "  'score': 0.82895297},\n",
       " {'title': 'President of the United States - Wikipedia',\n",
       "  'url': 'https://en.wikipedia.org/wiki/President_of_the_United_States',\n",
       "  'content': \"Nixon(1969–1974)Gerald Ford(1974–1977)Jimmy Carter(1977–1981)Ronald Reagan(1981–1989)George H. W. Bush(1989–1993)Bill Clinton(1993–2001)George W. Bush(2001–2009)Barack Obama(2009–2017)Donald Trump(2017–2021)Joe Biden(2021–2025)Donald Trump(2025–present) [...] The president is elected indirectly through the Electoral College to a four-year term, along with the vice president. Under the Twenty-second Amendment, ratified in 1951, no person who has been elected to two presidential terms may be elected to a third. In addition, nine vice presidents have become president by virtue of a president's intra-term death or resignation.[C] In all, 45 individuals have served 47 presidencies spanning 60 four-year terms.[D] Donald Trump is the 47th and current [...] President of the United States\\nPresidential seal\\nPresidential flag\\nIncumbentDonald Trumpsince\\xa0January 20, 2025\\nExecutive branch of the U.S. governmentExecutive Office of the President\\nStyle | Mr. President[1][2](informal)The Honorable[3](formal)His Excellency[4][5](diplomatic)\\nType | Head of stateHead of governmentCommander-in-chief\\nAbbreviation | POTUS\\nMember of | CabinetDomestic Policy CouncilNational Economic CouncilNational Security Council\\nResidence | White House\\nSeat | Washington, D.C.\",\n",
       "  'score': 0.8051581},\n",
       " {'title': 'List of USA presidents from George Washington to Donald Trump',\n",
       "  'url': 'https://timesofindia.indiatimes.com/world/us/list-of-presidents-of-us/featureshow/115011630.cms',\n",
       "  'content': 'No. | US President Name | Term start | Term end | Party | Election(s) | Vice President(s)\\n47th | Donald Trump | January 20,2025 | Present | Republican | 2024 | Kamala Harris\\n46th | Joe Biden | January 20, 2021 | Incumbent | Democratic | 2020 | Kamala Harris\\n45th | Donald Trump | January 20, 2017 | January 20, 2021 | Republican | 2016 | Mike Pence\\n44th | Barack Obama | January 20, 2009 | January 20, 2017 | Democratic | 2008, 2012 | Joe Biden [...] 43rd | George W. Bush | January 20, 2001 | January 20, 2009 | Republican | 2000, 2004 | Dick Cheney\\n42nd | Bill Clinton | January 20, 1993 | January 20, 2001 | Democratic | 1992, 1996 | Al Gore\\n41st | George H. W. Bush | January 20, 1989 | January 20, 1993 | Republican | 1988 | Dan Quayle\\n40th | Ronald Reagan | January 20, 1981 | January 20, 1989 | Republican | 1980, 1984 | George H. W. Bush\\n39th | Jimmy Carter | January 20, 1977 | January 20, 1981 | Democratic | 1976 | Walter Mondale [...] Donald Trump expressed his desire to be the next Pope, stating it would be his \"number one choice,\" despite being currently occupied as the US President and having been married three times. Following Pope Francis\\'s death, the Catholic Church is seeking a new leader. While Trump mentioned a cardinal from New York, reports suggest Cardinal Joseph Tobin of Newark, New Jersey, is a potential candidate.',\n",
       "  'score': 0.75312227},\n",
       " {'title': 'President of the United States - U.S. Embassy & Consulates in India',\n",
       "  'url': 'https://in.usembassy.gov/our-relationship/the-president-of-the-united-states/',\n",
       "  'content': 'AQI updates from U.S. Embassy and Consulates’ air quality monitors is available. Find out the quality of the air we breathe!\\n\\nPresident of the United States\\n\\n\\n\\nPresident Donald J. Trump\\n\\nDonald J. Trump serves as the 47th President of the United States. He also served as the 45th.\\n\\nRead the President’s full biography.\\n\\n\\n\\nVisit The White House Website\\n\\nNews, issues, and photos of the President\\n\\nU.S. Embassy in India\\n\\nU.S. Embassy\\n\\nU.S. Consulates',\n",
       "  'score': 0.709684}]"
      ]
     },
     "execution_count": 7,
     "metadata": {},
     "output_type": "execute_result"
    }
   ],
   "source": [
    "search.invoke(\"who is a current president of USA?\")\n"
   ]
  },
  {
   "cell_type": "code",
   "execution_count": 8,
   "id": "97e934a7",
   "metadata": {},
   "outputs": [],
   "source": [
    "tools=[search,multiply]"
   ]
  },
  {
   "cell_type": "code",
   "execution_count": 9,
   "id": "ee2412a2",
   "metadata": {},
   "outputs": [],
   "source": [
    "model_with_tools = llm.bind_tools(tools)\n"
   ]
  },
  {
   "cell_type": "code",
   "execution_count": 10,
   "id": "b909405e",
   "metadata": {},
   "outputs": [],
   "source": [
    "tool_mapping={tool.name: tool for tool in tools}"
   ]
  },
  {
   "cell_type": "code",
   "execution_count": 11,
   "id": "4b6bad7e",
   "metadata": {},
   "outputs": [
    {
     "data": {
      "text/plain": [
       "{'search': StructuredTool(name='search', description='perform the web search on the user query', args_schema=<class 'langchain_core.utils.pydantic.search'>, func=<function search at 0x0000024E38439AB0>),\n",
       " 'multiply': StructuredTool(name='multiply', description='multiply two integer number', args_schema=<class 'langchain_core.utils.pydantic.multiply'>, func=<function multiply at 0x0000024E38438E50>)}"
      ]
     },
     "execution_count": 11,
     "metadata": {},
     "output_type": "execute_result"
    }
   ],
   "source": [
    "tool_mapping"
   ]
  },
  {
   "cell_type": "code",
   "execution_count": 12,
   "id": "a76f251d",
   "metadata": {},
   "outputs": [],
   "source": [
    "response = model_with_tools.invoke(\"who is a current president of USA?\")\n"
   ]
  },
  {
   "cell_type": "code",
   "execution_count": 13,
   "id": "c924d7eb",
   "metadata": {},
   "outputs": [
    {
     "data": {
      "text/plain": [
       "AIMessage(content='', additional_kwargs={'tool_calls': [{'id': 'call_y9c3', 'function': {'arguments': '{\"query\":\"current president of USA\"}', 'name': 'search'}, 'type': 'function'}]}, response_metadata={'token_usage': {'completion_tokens': 82, 'prompt_tokens': 1076, 'total_tokens': 1158, 'completion_time': 0.149090909, 'prompt_time': 0.038092135, 'queue_time': 0.194725657, 'total_time': 0.187183044}, 'model_name': 'Gemma2-9b-It', 'system_fingerprint': 'fp_10c08bf97d', 'finish_reason': 'tool_calls', 'logprobs': None}, id='run--096cb4a1-0ed5-4fbd-9b02-3101bb410c81-0', tool_calls=[{'name': 'search', 'args': {'query': 'current president of USA'}, 'id': 'call_y9c3', 'type': 'tool_call'}], usage_metadata={'input_tokens': 1076, 'output_tokens': 82, 'total_tokens': 1158})"
      ]
     },
     "execution_count": 13,
     "metadata": {},
     "output_type": "execute_result"
    }
   ],
   "source": [
    "response"
   ]
  },
  {
   "cell_type": "code",
   "execution_count": 14,
   "id": "f4afead7",
   "metadata": {},
   "outputs": [
    {
     "data": {
      "text/plain": [
       "[{'id': 'call_y9c3',\n",
       "  'function': {'arguments': '{\"query\":\"current president of USA\"}',\n",
       "   'name': 'search'},\n",
       "  'type': 'function'}]"
      ]
     },
     "execution_count": 14,
     "metadata": {},
     "output_type": "execute_result"
    }
   ],
   "source": [
    "response.additional_kwargs.get(\"tool_calls\")\n"
   ]
  },
  {
   "cell_type": "code",
   "execution_count": 15,
   "id": "e60fd7bb",
   "metadata": {},
   "outputs": [
    {
     "data": {
      "text/plain": [
       "'search'"
      ]
     },
     "execution_count": 15,
     "metadata": {},
     "output_type": "execute_result"
    }
   ],
   "source": [
    "response.additional_kwargs.get(\"tool_calls\")[0][\"function\"][\"name\"]"
   ]
  },
  {
   "cell_type": "code",
   "execution_count": 16,
   "id": "465e26b7",
   "metadata": {},
   "outputs": [],
   "source": [
    "class AgentState(TypedDict):\n",
    "    messages: Annotated[Sequence[BaseMessage], operator.add]"
   ]
  },
  {
   "cell_type": "code",
   "execution_count": 17,
   "id": "83baf41f",
   "metadata": {},
   "outputs": [],
   "source": [
    "def invoke_model(state:AgentState):\n",
    "    messages = state['messages']\n",
    "    question = messages[-1]   ## Fetching the user question\n",
    "    return {\"messages\":[model_with_tools.invoke(question)]}"
   ]
  },
  {
   "cell_type": "code",
   "execution_count": 18,
   "id": "23ba4f75",
   "metadata": {},
   "outputs": [],
   "source": [
    "def invoke_tool(state:AgentState):\n",
    "    tool_details= state['messages'][-1].additional_kwargs.get(\"tool_calls\", [])[0]\n",
    "    \n",
    "    if tool_details is None:\n",
    "        raise Exception(\"no tool call found\")\n",
    "    \n",
    "    print(f'Selected tool: {tool_details.get(\"function\").get(\"name\")}')\n",
    "    \n",
    "    if tool_details.get(\"function\").get(\"name\")==\"search\":\n",
    "        response = input(prompt=f\"[y/n] continue with expensive web search?\")\n",
    "        if response == \"n\":\n",
    "            raise Exception(\"web search discard\")\n",
    "        \n",
    "    response = tool_mapping[tool_details['function']['name']].invoke(json.loads(tool_details.get(\"function\").get(\"arguments\")))\n",
    "    return {\"messages\" : [response]}"
   ]
  },
  {
   "cell_type": "code",
   "execution_count": 19,
   "id": "e8edfb2d",
   "metadata": {},
   "outputs": [],
   "source": [
    "def router(state):\n",
    "    tool_calls = state['messages'][-1].additional_kwargs.get(\"tool_calls\", [])\n",
    "    if len(tool_calls):\n",
    "        return \"tool\"\n",
    "    else:\n",
    "        return \"end\""
   ]
  },
  {
   "cell_type": "code",
   "execution_count": 20,
   "id": "8ed67184",
   "metadata": {},
   "outputs": [
    {
     "data": {
      "text/plain": [
       "<langgraph.graph.state.StateGraph at 0x24e384ba440>"
      ]
     },
     "execution_count": 20,
     "metadata": {},
     "output_type": "execute_result"
    }
   ],
   "source": [
    "graph = StateGraph(AgentState) ### StateGraph with AgentState\n",
    "\n",
    "graph.add_node(\"ai_assistant\", invoke_model)\n",
    "\n",
    "graph.add_node(\"tool\", invoke_tool)"
   ]
  },
  {
   "cell_type": "code",
   "execution_count": 21,
   "id": "bb3f0fae",
   "metadata": {},
   "outputs": [
    {
     "data": {
      "text/plain": [
       "<langgraph.graph.state.StateGraph at 0x24e384ba440>"
      ]
     },
     "execution_count": 21,
     "metadata": {},
     "output_type": "execute_result"
    }
   ],
   "source": [
    "graph.add_conditional_edges(\"ai_assistant\", router, {\"tool\": \"tool\",\"end\": END,})\n",
    "\n",
    "graph.add_edge(\"tool\", END)\n",
    "\n",
    "#graph.add_edge(\"tool\", \"ai_assistant\")\n",
    "\n",
    "graph.set_entry_point(\"ai_assistant\")"
   ]
  },
  {
   "cell_type": "code",
   "execution_count": 22,
   "id": "ede18431",
   "metadata": {},
   "outputs": [],
   "source": [
    "app = graph.compile()"
   ]
  },
  {
   "cell_type": "code",
   "execution_count": 45,
   "id": "20bb64e8",
   "metadata": {},
   "outputs": [
    {
     "name": "stdout",
     "output_type": "stream",
     "text": [
      "{'messages': [AIMessage(content='', additional_kwargs={'tool_calls': [{'id': 'call_q38r', 'function': {'arguments': '{\"query\":\"upcoming president of USA\"}', 'name': 'search'}, 'type': 'function'}]}, response_metadata={'token_usage': {'completion_tokens': 83, 'prompt_tokens': 1075, 'total_tokens': 1158, 'completion_time': 0.150909091, 'prompt_time': 0.049138961, 'queue_time': 0.171547687, 'total_time': 0.200048052}, 'model_name': 'Gemma2-9b-It', 'system_fingerprint': 'fp_10c08bf97d', 'finish_reason': 'tool_calls', 'logprobs': None}, id='run--4cedc64f-21d2-443e-9ac8-725f93934989-0', tool_calls=[{'name': 'search', 'args': {'query': 'upcoming president of USA'}, 'id': 'call_q38r', 'type': 'tool_call'}], usage_metadata={'input_tokens': 1075, 'output_tokens': 83, 'total_tokens': 1158})]}\n",
      "----\n",
      "Selected tool: search\n",
      "{'messages': [[{'title': '2024 United States presidential election - Wikipedia', 'url': 'https://en.wikipedia.org/wiki/2024_United_States_presidential_election', 'content': \"A presidential election was held in the United States on November 5, 2024. The Republican Party's ticket—Donald Trump, who was the 45th president of the United States from 2017 to 2021, and JD Vance, then-junior U.S. senator from Ohio—defeated the Democratic Party's ticket—Kamala Harris, the incumbent U.S. vice president, and Tim Walz, the 41st governor of Minnesota. [...] NomineeDonald TrumpKamala HarrisPartyRepublicanDemocraticHome\\xa0stateFloridaCaliforniaRunning\\xa0mateJD VanceTim WalzElectoral\\xa0vote312226States\\xa0carried31 +ME-0219 +DC+NE-02Popular\\xa0vote77,302,580[2]75,017,613[2]Percentage49.8%[2]48.3%[2] |  |  |  | Nominee | Donald Trump | Kamala Harris |  | Party | Republican | Democratic | Home\\xa0state | Florida | California | Running\\xa0mate | JD Vance | Tim Walz | Electoral\\xa0vote | 312 | 226 | States\\xa0carried | 31 +ME-02 | 19 +DC+NE-02 | Popular\\xa0vote | 77,302,580[2] | [...] Candidates in this section are sorted by date of withdrawal from the primaries\\nNikki Haley | Ron DeSantis | Asa Hutchinson | Vivek Ramaswamy | Chris Christie | Doug Burgum\\n |  |  |  |  | \\nAmbassador to the United Nations(2017–2018) | 46thGovernor of Florida(2019–present) | 46thGovernor of Arkansas(2015–2023) | CEO ofRoivant Sciences(2014–2023) | 55thGovernor of New Jersey(2010–2018) | 33rdGovernor of North Dakota(2016–2024)\\n |  |  |  |  |\", 'score': 0.750937}, {'title': 'United States presidential election of 2024 - Britannica', 'url': 'https://www.britannica.com/event/United-States-presidential-election-of-2024', 'content': 'United States presidential election of 2024,  American election, held on November 5, 2024, in which former Republican president Donald Trump (2017–21) defeated the Democratic nominee, Vice Pres. Kamala Harris. Trump, who lost his bid for reelection in 2020 to Democrat Joe Biden, is the first U.S. president to be elected to two nonconsecutive terms since Grover Cleveland, the 22nd and 24th president of the United States (1885–89 and 1893–97). Having been convicted of a felony crime in May 2024, [...] Shortly before Biden formally declared his candidacy, two challengers announced their own bids for the Democratic nomination: Marianne Williamson, a social activist and self-help author who had been a fringe candidate for the Democratic nomination in 2020, and Robert F. Kennedy, Jr., an environmental activist and lawyer and the son of Robert F. Kennedy, the U.S. attorney general and U.S. senator from Massachusetts who was assassinated during his campaign for the Democratic nomination in 1968. [...] By March 12, following their victories in primary elections held in Georgia, Mississippi, and Washington state, both Biden and Trump had accumulated enough delegates to win their parties’ presidential nominations. At the Republican National Convention in July 2024, Trump officially became his party’s presidential nominee.\\n\\nBiden’s withdrawal and Harris’s nomination', 'score': 0.7311551}, {'title': 'Presidential candidates, 2024 - Ballotpedia', 'url': 'https://ballotpedia.org/Presidential_candidates,_2024', 'content': \"2024 Presidential ElectionDate:November 5, 2024\\nPresidential candidates\\nKamala Harris (D)Donald Trump (R)(won)Jill Stein (G)Chase Oliver (L)\\nBattleground states•List of registered candidates•Electoral College•Prediction markets•Presidential debates•Important dates•Presidential election by state•Campaign finance•Logos and slogans•Key staffers•Vice presidential candidates•Policy positions•Ballotpedia's presidential election coverage index\\nPrimaries\\nDemocratic•Republican•Green•Libertarian [...] Former President Donald Trump (R) won the November 5, 2024, presidential election. Twenty-four candidates appeared on presidential election ballots across the country. Of those candidates, four qualified to appear on enough ballots — totaling at least 270 electoral votes — to win a majority of the Electoral College. Those noteworthy presidential candidates were Kamala Harris (D), Donald Trump (R), Jill Stein (G), and Chase Oliver (L). [...] Harris won a majority of delegates at a Democratic virtual roll call vote held from August 1 to August 5, 2024, and Trump won a majority of delegates at the 2024 Republican National Convention on July 15, 2024.[1][2][3]\\n\\nIn addition to noteworthy candidates, this page also provides the names of all candidates who filed with the Federal Election Commission and the names of politicians and public figures discussed as potential presidential contenders in 2024 by national media outlets.\", 'score': 0.66959417}, {'title': '2024 United States elections - Wikipedia', 'url': 'https://en.wikipedia.org/wiki/2024_United_States_elections', 'content': 'Elections were held in the United States on November 5, 2024. In the presidential election, former Republican President Donald Trump, seeking a non-consecutive second term, defeated the incumbent Democratic Vice President Kamala Harris. Republicans also gained control of the Senate and held narrow control of the House of Representatives, winning a government trifecta for the first time since 2016. This was the first time since 1980 that Republicans flipped control of a chamber of Congress in a [...] vte(← 2020)2024 United States presidential election(2028 →)\\nDonald Trump,JD Vance(R), 312 electoral votes;Kamala Harris,Tim Walz(D), 226 electoral votes2024 United States electionsPollsnationalstateTimelineDebatesFundraisingBallot accessInterferenceChineseIranianRussianElectorsElectoral College vote countTransitioninauguration [...] In November 2022, former President Donald Trump announced his candidacy in the 2024 presidential election.[61] Other candidates who entered the 2024 Republican Party presidential primaries include former South Carolina governor and former U.S. Ambassador to the U.N. Nikki Haley and Governor Ron DeSantis of Florida, who later suspended their campaigns and endorsed Trump.[62] The first Republican presidential debate was held on August 23, 2023, and the first primary contest was the 2024 Iowa', 'score': 0.65676886}, {'title': 'Donald Trump is elected 47th president of the United States, NBC ...', 'url': 'https://www.youtube.com/watch?v=bJPxUChYeaM', 'content': \"NBC News is projecting that Donald Trump has won the 2024 election and will be the 47th president of the United States. NBC News' Chuck Todd\", 'score': 0.6455898}]]}\n",
      "----\n"
     ]
    }
   ],
   "source": [
    "\n",
    "for s in app.stream({\"messages\": [\"who is upcoming president of USA?\"]}):\n",
    "    print(list(s.values())[0])\n",
    "    print(\"----\")\n",
    "     "
   ]
  },
  {
   "cell_type": "code",
   "execution_count": 46,
   "id": "e996461a",
   "metadata": {},
   "outputs": [
    {
     "name": "stdout",
     "output_type": "stream",
     "text": [
      "{'messages': [AIMessage(content='', additional_kwargs={'tool_calls': [{'id': 'call_1htr', 'function': {'arguments': '{\"first_number\":23,\"second_number\":46}', 'name': 'multiply'}, 'type': 'function'}]}, response_metadata={'token_usage': {'completion_tokens': 92, 'prompt_tokens': 1080, 'total_tokens': 1172, 'completion_time': 0.167272727, 'prompt_time': 0.037871462, 'queue_time': 0.196639479, 'total_time': 0.205144189}, 'model_name': 'Gemma2-9b-It', 'system_fingerprint': 'fp_10c08bf97d', 'finish_reason': 'tool_calls', 'logprobs': None}, id='run--7ab76e54-f84a-4d49-8538-37d64df895fa-0', tool_calls=[{'name': 'multiply', 'args': {'first_number': 23, 'second_number': 46}, 'id': 'call_1htr', 'type': 'tool_call'}], usage_metadata={'input_tokens': 1080, 'output_tokens': 92, 'total_tokens': 1172})]}\n",
      "----\n",
      "Selected tool: multiply\n",
      "{'messages': [1058]}\n",
      "----\n"
     ]
    }
   ],
   "source": [
    "\n",
    "for s in app.stream({\"messages\": [\"what is multiplication of 23 and 46?\"]}):\n",
    "    print(list(s.values())[0])\n",
    "    print(\"----\")"
   ]
  },
  {
   "cell_type": "code",
   "execution_count": 47,
   "id": "caefaa7b",
   "metadata": {},
   "outputs": [
    {
     "name": "stdout",
     "output_type": "stream",
     "text": [
      "{'messages': [AIMessage(content='', additional_kwargs={'tool_calls': [{'id': 'call_6mdm', 'function': {'arguments': '{\"query\":\"what is the total amount of money exist over the earth\"}', 'name': 'search'}, 'type': 'function'}]}, response_metadata={'token_usage': {'completion_tokens': 90, 'prompt_tokens': 1080, 'total_tokens': 1170, 'completion_time': 0.163636364, 'prompt_time': 0.037873092, 'queue_time': 0.166096862, 'total_time': 0.201509456}, 'model_name': 'Gemma2-9b-It', 'system_fingerprint': 'fp_10c08bf97d', 'finish_reason': 'tool_calls', 'logprobs': None}, id='run--b9bf97a4-1b6a-48ad-b9ba-5461c48712c4-0', tool_calls=[{'name': 'search', 'args': {'query': 'what is the total amount of money exist over the earth'}, 'id': 'call_6mdm', 'type': 'tool_call'}], usage_metadata={'input_tokens': 1080, 'output_tokens': 90, 'total_tokens': 1170})]}\n",
      "----\n",
      "Selected tool: search\n",
      "{'messages': [[{'title': 'How Much Money Exists on Planet Earth? | Celebrity Net Worth', 'url': 'https://www.celebritynetworth.com/articles/entertainment-articles/much-money-planet-earth/', 'content': 'So, if you\\'re counting all the money on Earth—including the big institutional stuff most of us will never see—then you\\'re looking at a global money supply nearing $130 trillion.\\n\\nBy the way…\\n\\nI tried using ChatGPT\\'s SORA image creator to create an image to go with this article. In the end, here\\'s what I went with:\\n\\n\\n\\nI really wanted the image to be a person jumping into a gigantic pool of money (a la, Scrooge McDuck). Here\\'s what it came up with: [...] The total value of all physical currency (notes and coins) in circulation worldwide is on the order of $8–9 trillion. Spoiler alert: As you\\'ll learn in the sections below, this means that less than 10% of the world\\'s money supply is exists in actual paper and coin form.\\n\\nM1: $50 trillion [...] M3 is generally considered the global money supply. M3 includes all of M2 plus larger long-term deposits, institutional money-market funds, and other slightly less liquid instruments. Many countries report an M3 or equivalent \"broad money\" metric. Globally, this broadest measure is roughly $125–$130 trillion in U.S. dollar terms.', 'score': 0.81347597}, {'title': 'Total Global Wealth: How Much Money Is on Earth? - Finance Monthly', 'url': 'https://www.finance-monthly.com/2025/04/total-global-wealth-how-much-money-is-on-earth/', 'content': \"So, if you're trying to count all the money in the world—including the big institutional wealth most of us will never see—you’re looking at a global money supply of nearly $130 trillion. [...] M3: $125–$130 Trillion\\nM3 is the grand total—the biggest measure of the global money supply. It includes everything in M2, plus large long-term deposits, institutional funds, and other assets that are a little less liquid. This is essentially the sum of all global wealth, and it’s estimated to be around $125–$130 trillion in U.S. dollars. [...] M0 refers to all the physical coins and paper bills in circulation worldwide—converted to U.S. dollars, of course. In total, the value of all physical currency comes in around $8–9 trillion. Sounds like a lot, right? Well, here's the kicker: This is actually less than 10% of the total global money supply. Less than 10%! It turns out there’s a whole lot more to money than what you can physically hold in your hands.\\nRELATED: Ever Wondered What $1 Trillion In Cash Looks Like: Wonder No More!\", 'score': 0.7950386}, {'title': 'How much money is in the world? - Quora', 'url': 'https://www.quora.com/How-much-money-is-in-the-world', 'content': 'Estimates suggest that there are around $90 trillion in total global money supply, including physical cash, bank deposits, and other liquid assets. However,', 'score': 0.76701033}, {'title': 'How Much Money is in the World? - World Population Review', 'url': 'https://worldpopulationreview.com/metrics/how-much-money-is-in-the-world', 'content': 'The currency with the highest banknote denomination in history was the Zimbabwean Dollar (ZWD), which went out of circulation in 2009 as its value plummeted. In an attempt to cope with a plummeting currency, the Zimbabwean government printed a banknote with a denomination of 100 trillion ZWD. At the time, this was only worth about $0.40. Therefore if we equate the estimated $80 trillion that exists in the world today to the extinct Zimbabwean Dollar, the total value of all currency on Earth is [...] Worldwide, M0 is projected at around $5 trillion. This is the sum of all the minted money of all currencies in circulation. However, the figure that we may be more interested in can be referred to as “broad money” or M3. This figure accounts for all funds in checking, savings, and money-market accounts; it’s essentially all digital money owned by anyone, anywhere. This figure runs much, much higher with an estimated $80 trillion in worldwide funds. [...] about 20 octillion ZWD. That number looks like this: 20,000,000,000,000,000,000,000,000,000. If you printed that much money in 500 ZWD notes, the volume of the notes would be approximate to the volume of the Earth itself.', 'score': 0.76427686}, {'title': \"Here's How Much Money Really Exists In The World\", 'url': 'https://www.moneydigest.com/1486588/how-much-money-exists-world/', 'content': 'Nowadays, the term \"money\" has expanded even further to include things like cryptocurrency and funds held in checking, savings, and investment accounts. Therefore, when considering how much money exists in the world, the answer is going to depend heavily on how broad your definition of money is. But lest we be accused of burying the lede, estimates say there\\'s approximately $83 trillion floating around the globe in either cash, bank accounts, or other instruments that can be converted quickly [...] In case you were wondering how much $83 trillion represents on a per-person basis, the Earth\\'s population is currently about 8.1 billion. That works out to $10,246.91 for every human on earth, if divided equally. Finally, SunnyAvenue, a UK-based purveyor of financial advice, estimates that the world\\'s money supply would tally more than $1 quadrillion if cryptocurrencies were included in the equation. If you\\'re anything like us, you\\'re probably not sure how much a quadrillion is. For the record, [...] in the world and only 40 are accounted for in this estimate, that $8.28 trillion figure is likely somewhat low, but it\\'s the best guess we have to work with.', 'score': 0.74541736}]]}\n",
      "----\n"
     ]
    }
   ],
   "source": [
    "\n",
    "for s in app.stream({\"messages\": [\"what is the total amount of money exist over the earth?\"]}):\n",
    "    print(list(s.values())[0])\n",
    "    print(\"----\")"
   ]
  },
  {
   "cell_type": "code",
   "execution_count": 48,
   "id": "8185801e",
   "metadata": {},
   "outputs": [],
   "source": [
    "#LangGraph supports human-in-the-loop workflows in a number of ways. In this section, we will use LangGraph's interrupt_before functionality to always break the tool node."
   ]
  },
  {
   "cell_type": "code",
   "execution_count": 51,
   "id": "5bd8fe89",
   "metadata": {},
   "outputs": [],
   "source": [
    "class AgentState(TypedDict):\n",
    "    messages: Annotated[list, add_messages]"
   ]
  },
  {
   "cell_type": "code",
   "execution_count": 52,
   "id": "c38e2740",
   "metadata": {},
   "outputs": [],
   "source": [
    "tavily=TavilySearchResults()"
   ]
  },
  {
   "cell_type": "code",
   "execution_count": 53,
   "id": "ef21eda3",
   "metadata": {},
   "outputs": [],
   "source": [
    "tools = [tavily]"
   ]
  },
  {
   "cell_type": "code",
   "execution_count": 54,
   "id": "f3421943",
   "metadata": {},
   "outputs": [],
   "source": [
    "llm_with_tools = llm.bind_tools(tools)\n"
   ]
  },
  {
   "cell_type": "code",
   "execution_count": 55,
   "id": "b82414f6",
   "metadata": {},
   "outputs": [],
   "source": [
    "def ai_assistant(state: AgentState):\n",
    "    return {\"messages\": [llm_with_tools.invoke(state[\"messages\"])]}"
   ]
  },
  {
   "cell_type": "code",
   "execution_count": 56,
   "id": "d062b4f7",
   "metadata": {},
   "outputs": [],
   "source": [
    "memory = MemorySaver()"
   ]
  },
  {
   "cell_type": "code",
   "execution_count": 57,
   "id": "287ed366",
   "metadata": {},
   "outputs": [
    {
     "data": {
      "text/plain": [
       "<langgraph.graph.state.StateGraph at 0x24e3a930fa0>"
      ]
     },
     "execution_count": 57,
     "metadata": {},
     "output_type": "execute_result"
    }
   ],
   "source": [
    "graph_builder = StateGraph(AgentState)\n",
    "graph_builder.add_node(\"ai_assistant\", ai_assistant)\n",
    "\n",
    "tool_node = ToolNode(tools=tools)\n",
    "graph_builder.add_node(\"tools\", tool_node)"
   ]
  },
  {
   "cell_type": "code",
   "execution_count": 58,
   "id": "ca202589",
   "metadata": {},
   "outputs": [
    {
     "data": {
      "text/plain": [
       "<langgraph.graph.state.StateGraph at 0x24e3a930fa0>"
      ]
     },
     "execution_count": 58,
     "metadata": {},
     "output_type": "execute_result"
    }
   ],
   "source": [
    "graph_builder.add_edge(START, \"ai_assistant\")\n",
    "\n",
    "graph_builder.add_conditional_edges(\n",
    "    \"ai_assistant\",\n",
    "    tools_condition,\n",
    ")\n",
    "graph_builder.add_edge(\"tools\", \"ai_assistant\")"
   ]
  },
  {
   "cell_type": "code",
   "execution_count": 59,
   "id": "84bc42d3",
   "metadata": {},
   "outputs": [],
   "source": [
    "app2 = graph_builder.compile(\n",
    "    checkpointer=memory,\n",
    "    # This is new!\n",
    "    interrupt_before=[\"tools\"],\n",
    "    # Note: can also interrupt __after__ tools, if desired.\n",
    "    # interrupt_after=[\"tools\"]\n",
    ")"
   ]
  },
  {
   "cell_type": "code",
   "execution_count": 61,
   "id": "8d83ad36",
   "metadata": {},
   "outputs": [],
   "source": [
    "\n",
    "user_input = \"what is current a capital of india?\"\n",
    "config = {\"configurable\": {\"thread_id\": \"1\"}}"
   ]
  },
  {
   "cell_type": "code",
   "execution_count": 62,
   "id": "cce108f2",
   "metadata": {},
   "outputs": [],
   "source": [
    "\n",
    "# The config is the **second positional argument** to stream() or invoke()!\n",
    "events = app2.stream(\n",
    "    {\"messages\": [(\"user\", user_input)]}, config, stream_mode=\"values\"\n",
    ")"
   ]
  },
  {
   "cell_type": "code",
   "execution_count": 63,
   "id": "394aeddb",
   "metadata": {},
   "outputs": [
    {
     "name": "stdout",
     "output_type": "stream",
     "text": [
      "================================\u001b[1m Human Message \u001b[0m=================================\n",
      "\n",
      "what is current a capital of india?\n",
      "==================================\u001b[1m Ai Message \u001b[0m==================================\n",
      "Tool Calls:\n",
      "  tavily_search_results_json (call_1gjr)\n",
      " Call ID: call_1gjr\n",
      "  Args:\n",
      "    query: What is the current capital of India?\n"
     ]
    }
   ],
   "source": [
    "for event in events:\n",
    "    if \"messages\" in event:\n",
    "        event[\"messages\"][-1].pretty_print()"
   ]
  },
  {
   "cell_type": "code",
   "execution_count": 68,
   "id": "a8491f44",
   "metadata": {},
   "outputs": [],
   "source": [
    "\n",
    "# `None` will append nothing new to the current state, letting it resume as if it had never been interrupted\n",
    "events = app2.stream(None, config, stream_mode=\"values\")"
   ]
  },
  {
   "cell_type": "code",
   "execution_count": 69,
   "id": "1900b11a",
   "metadata": {},
   "outputs": [
    {
     "name": "stdout",
     "output_type": "stream",
     "text": [
      "==================================\u001b[1m Ai Message \u001b[0m==================================\n",
      "Tool Calls:\n",
      "  tavily_search_results_json (call_as7q)\n",
      " Call ID: call_as7q\n",
      "  Args:\n",
      "    query: What is the capital of India?\n",
      "=================================\u001b[1m Tool Message \u001b[0m=================================\n",
      "Name: tavily_search_results_json\n",
      "\n",
      "[{\"title\": \"What is the capital of India? States and union territories explained.\", \"url\": \"https://www.usatoday.com/story/news/world/2023/05/24/what-is-the-capital-of-india/70195720007/\", \"content\": \"Want to learn more about the soon-to-be most populous country? Here’s some interesting information about how India is organized.\\n\\nWhat is the capital of India?\\n\\nThe capital of India is New Delhi, located in the north-central part of the country to the west of the Yamuna River.\\n\\nCalcutta (now Kolkata, the capital of West Bengal) was the country’s capital until 1911 when King George V declared Delhi the new capital and construction of New Delhi began. [...] When the national government achieved independence in 1947, New Delhi became the capital.\\n\\nMumbai, the state capital of Maharashtra, is often considered the financial capital of India because of its role in the national and international economy.\\n\\nHow many states are in India?\\n\\nIndia is home to 28 states, each with its own capital and run by a Governor who represents the President:\\n\\nIndia also has eight union territories, governed by an Administrator appointed by the President:\", \"score\": 0.942385}, {\"title\": \"What is the capital of India? - Quora\", \"url\": \"https://www.quora.com/What-is-the-capital-of-India-328\", \"content\": \"Continue Reading\\nHi,\\nQ.What is the capital of India?\\nAns.DELHI is the capital of INDIA. [...] Avnish Singh\\nLives in Varanasi, Uttar Pradesh (2018–present)\\n· Updated 6y\\nOriginally Answered: What is the capital of India? ·\\nThe current capital of India is New Delhi.\\n\\n(India Gate)\\n\\n(Indira Gandhi International Airport)\\n\\n(Lotus Temple)\\n\\n(Secretariat Building)\\n\\n(Rashtrapati Bhavan)\\nContinue Reading\\nThe current capital of India is New Delhi.\\n\\n(India Gate)\\n\\n(Indira Gandhi International Airport)\\n\\n(Lotus Temple)\\n\\n(Secretariat Building) [...] Khet Singh\\nCategory manager- Business Development at UrbanClap (2016–present)\\n· 7y\\nOriginally Answered: What is the capital of India? ·\\nHi,\\nQ.What is the capital of India?\\nAns.DELHI is the capital of INDIA.\", \"score\": 0.92142147}, {\"title\": \"Capital of India - Definition, Meaning & Synonyms - Vocabulary.com\", \"url\": \"https://www.vocabulary.com/dictionary/capital%20of%20India\", \"content\": \"noun\\nthe capital of India is a division of the old city of Delhi\\nsynonyms: Indian capital, New Delhi\\nsee moresee less\\nexample of:\\nnational capital\\nthe capital city of a nation\\n\\n\\nCite this entry\\nStyle:\\nMLA\\n\\nMLA\\nAPA\\nChicago\", \"score\": 0.8958969}, {\"title\": \"Which is the Capital of India? #capitalofindia #delhi #newdelhi\", \"url\": \"https://www.youtube.com/watch?v=Gj9rOLe4CZU\", \"content\": \"Do You Know! Delhi or New Delhi: Which is the Capital of India? #capitalofindia #delhi #newdelhi\\nChahal Academy\\n229000 subscribers\\n2032 likes\\n18572 views\\n16 Feb 2025\\nEnroll Now\\nhttps://chahalacademy.com/offers\\n\\nFollow Us For Regular Updates:\\nInstagram: https://www.instagram.com/chahalacademy \\n\\nTelegram: https://t.me/s/chahalacademyupsc \\n\\nStart Free IAS/UPSC Preparation through our Special Simplified YouTube Series:\\nhttps://www.youtube.com/@chahalacademy/playlists [...] For regular updates, you can Subscribe to our YouTube channel:\\nhttps://www.youtube.com/@chahalacademy\\n\\n#ias #upsc #upsccse #civilservices #upsccivilservices #iasips #iasupsc #upscexam #iasexam #cseexam #upsccseexam #civilserviceexam  #chahalacademy #chahaliasacademy\\n1 comments [...] दे देखने को मिलता है तब इसे इंद्रप्रस्त बुलाया जाता था फिर फर्स्ट सेंचुरी बीसी में राजा लू ने यहां शहर बसाया था और उन्हीं के नाम ढीलू से आज के दिल्ली का नाम पड़ा इंटरेस्टिंग वीडियोस के लिए सब्सक्राइब टू चहल अकेडमी\", \"score\": 0.8795718}, {\"title\": \"The Capital of India | Know Your Country | National Geographic\", \"url\": \"https://m.youtube.com/watch?v=qELzANfST38&pp=ygUPI2NhcGl0c2xvZmluZGlh\", \"content\": \"The Capital of India | Know Your Country | National Geographic\\nNational Geographic India\\n4120000 subscribers\\n1031 likes\\n36549 views\\n11 Aug 2022\\nFrom the land of Pandavas, Indraprastha to now the capital region of the largest democracy, India, Delhi has been the face to many kingdoms and governments. Lived through the kaleidoscope of Indian history, every nook and cranny of this city sings the stories of the same. Watch the history of the India’s Capital with Know Your Country.\", \"score\": 0.8765607}]\n",
      "==================================\u001b[1m Ai Message \u001b[0m==================================\n",
      "\n",
      "New Delhi\n"
     ]
    }
   ],
   "source": [
    "for event in events:\n",
    "    if \"messages\" in event:\n",
    "        event[\"messages\"][-1].pretty_print()"
   ]
  },
  {
   "cell_type": "code",
   "execution_count": null,
   "id": "00a6bad6",
   "metadata": {},
   "outputs": [],
   "source": []
  }
 ],
 "metadata": {
  "kernelspec": {
   "display_name": "langGraphenv",
   "language": "python",
   "name": "python3"
  },
  "language_info": {
   "codemirror_mode": {
    "name": "ipython",
    "version": 3
   },
   "file_extension": ".py",
   "mimetype": "text/x-python",
   "name": "python",
   "nbconvert_exporter": "python",
   "pygments_lexer": "ipython3",
   "version": "3.10.16"
  }
 },
 "nbformat": 4,
 "nbformat_minor": 5
}
